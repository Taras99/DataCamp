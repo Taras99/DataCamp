{
  "cells": [
    {
      "cell_type": "markdown",
      "metadata": {
        "id": "view-in-github",
        "colab_type": "text"
      },
      "source": [
        "<a href=\"https://colab.research.google.com/github/Taras99/DataCamp/blob/main/TV_Ratings.ipynb\" target=\"_parent\"><img src=\"https://colab.research.google.com/assets/colab-badge.svg\" alt=\"Open In Colab\"/></a>"
      ]
    },
    {
      "metadata": {
        "dc": {
          "key": "4"
        },
        "deletable": false,
        "editable": false,
        "run_control": {
          "frozen": true
        },
        "tags": [
          "context"
        ],
        "id": "AgY1H9B27pkn"
      },
      "cell_type": "markdown",
      "source": [
        "## 1. Welcome!\n",
        "<p><img src=\"https://assets.datacamp.com/production/project_1170/img/office_cast.jpeg\" alt=\"Markdown\">.</p>\n",
        "<p><strong>The Office!</strong> What started as a British mockumentary series about office culture in 2001 has since spawned ten other variants across the world, including an Israeli version (2010-13), a Hindi version (2019-), and even a French Canadian variant (2006-2007). Of all these iterations (including the original), the American series has been the longest-running, spanning 201 episodes over nine seasons.</p>\n",
        "<p>In this notebook, we will take a look at a dataset of The Office episodes, and try to understand how the popularity and quality of the series varied over time. To do so, we will use the following dataset: <code>datasets/office_episodes.csv</code>, which was downloaded from Kaggle <a href=\"https://www.kaggle.com/nehaprabhavalkar/the-office-dataset\">here</a>.</p>\n",
        "<p>This dataset contains information on a variety of characteristics of each episode. In detail, these are:\n",
        "<br></p>\n",
        "<div style=\"background-color: #efebe4; color: #05192d; text-align:left; vertical-align: middle; padding: 15px 25px 15px 25px; line-height: 1.6;\">\n",
        "    <div style=\"font-size:20px\"><b>datasets/office_episodes.csv</b></div>\n",
        "<ul>\n",
        "    <li><b>episode_number:</b> Canonical episode number.</li>\n",
        "    <li><b>season:</b> Season in which the episode appeared.</li>\n",
        "    <li><b>episode_title:</b> Title of the episode.</li>\n",
        "    <li><b>description:</b> Description of the episode.</li>\n",
        "    <li><b>ratings:</b> Average IMDB rating.</li>\n",
        "    <li><b>votes:</b> Number of votes.</li>\n",
        "    <li><b>viewership_mil:</b> Number of US viewers in millions.</li>\n",
        "    <li><b>duration:</b> Duration in number of minutes.</li>\n",
        "    <li><b>release_date:</b> Airdate.</li>\n",
        "    <li><b>guest_stars:</b> Guest stars in the episode (if any).</li>\n",
        "    <li><b>director:</b> Director of the episode.</li>\n",
        "    <li><b>writers:</b> Writers of the episode.</li>\n",
        "    <li><b>has_guests:</b> True/False column for whether the episode contained guest stars.</li>\n",
        "    <li><b>scaled_ratings:</b> The ratings scaled from 0 (worst-reviewed) to 1 (best-reviewed).</li>\n",
        "</ul>\n",
        "    </div>"
      ]
    },
    {
      "cell_type": "code",
      "source": [],
      "metadata": {
        "id": "jupXlcop7tCH"
      },
      "execution_count": null,
      "outputs": []
    },
    {
      "cell_type": "code",
      "source": [
        "from google.colab import drive\n",
        "drive.mount('/content/drive')"
      ],
      "metadata": {
        "colab": {
          "base_uri": "https://localhost:8080/"
        },
        "id": "WjPNY04T7uW1",
        "outputId": "afb7bdb8-79a7-4648-b1d2-e9cfcdcd71db"
      },
      "execution_count": null,
      "outputs": [
        {
          "output_type": "stream",
          "name": "stdout",
          "text": [
            "Mounted at /content/drive\n"
          ]
        }
      ]
    },
    {
      "metadata": {
        "dc": {
          "key": "4"
        },
        "tags": [
          "sample_code"
        ],
        "trusted": true,
        "collapsed": true,
        "id": "93UWeG1f7pkr"
      },
      "cell_type": "code",
      "source": [
        "import pandas as pd\n",
        "import matplotlib.pyplot as plt\n",
        "plt.rcParams['figure.figsize'] = [11, 7]"
      ],
      "execution_count": null,
      "outputs": []
    },
    {
      "metadata": {
        "dc": {
          "key": "4"
        },
        "trusted": true,
        "collapsed": true,
        "id": "8iJcINjN7pkt"
      },
      "cell_type": "code",
      "source": [
        "data = pd.read_csv('/content/drive/MyDrive/Colab Notebooks/DataCamp projects/TV Ratings, Guest Stars, and The Office/datasets/office_episodes.csv')"
      ],
      "execution_count": null,
      "outputs": []
    },
    {
      "metadata": {
        "dc": {
          "key": "4"
        },
        "trusted": true,
        "colab": {
          "base_uri": "https://localhost:8080/",
          "height": 582
        },
        "id": "bIiml6W37pku",
        "outputId": "d5f84172-675a-4a05-8de1-c64910ab0922"
      },
      "cell_type": "code",
      "source": [
        "data.head()"
      ],
      "execution_count": null,
      "outputs": [
        {
          "output_type": "execute_result",
          "data": {
            "text/plain": [
              "   episode_number  season  episode_title  \\\n",
              "0               0       1          Pilot   \n",
              "1               1       1  Diversity Day   \n",
              "2               2       1    Health Care   \n",
              "3               3       1   The Alliance   \n",
              "4               4       1     Basketball   \n",
              "\n",
              "                                         description  ratings  votes  \\\n",
              "0  The premiere episode introduces the boss and s...      7.5   4936   \n",
              "1  Michael's off color remark puts a sensitivity ...      8.3   4801   \n",
              "2  Michael leaves Dwight in charge of picking the...      7.8   4024   \n",
              "3  Just for a laugh, Jim agrees to an alliance wi...      8.1   3915   \n",
              "4  Michael and his staff challenge the warehouse ...      8.4   4294   \n",
              "\n",
              "   viewership_mil  duration release_date guest_stars         director  \\\n",
              "0            11.2        23   2005-03-24         NaN       Ken Kwapis   \n",
              "1             6.0        23   2005-03-29         NaN       Ken Kwapis   \n",
              "2             5.8        22   2005-04-05         NaN  Ken Whittingham   \n",
              "3             5.4        23   2005-04-12         NaN     Bryan Gordon   \n",
              "4             5.0        23   2005-04-19         NaN     Greg Daniels   \n",
              "\n",
              "                                            writers  has_guests  \\\n",
              "0  Ricky Gervais |Stephen Merchant and Greg Daniels       False   \n",
              "1                                       B. J. Novak       False   \n",
              "2                                  Paul Lieberstein       False   \n",
              "3                                     Michael Schur       False   \n",
              "4                                      Greg Daniels       False   \n",
              "\n",
              "   scaled_ratings  \n",
              "0         0.28125  \n",
              "1         0.53125  \n",
              "2         0.37500  \n",
              "3         0.46875  \n",
              "4         0.56250  "
            ],
            "text/html": [
              "\n",
              "  <div id=\"df-14a90c27-3ad1-43be-86f9-cb266c0051d1\">\n",
              "    <div class=\"colab-df-container\">\n",
              "      <div>\n",
              "<style scoped>\n",
              "    .dataframe tbody tr th:only-of-type {\n",
              "        vertical-align: middle;\n",
              "    }\n",
              "\n",
              "    .dataframe tbody tr th {\n",
              "        vertical-align: top;\n",
              "    }\n",
              "\n",
              "    .dataframe thead th {\n",
              "        text-align: right;\n",
              "    }\n",
              "</style>\n",
              "<table border=\"1\" class=\"dataframe\">\n",
              "  <thead>\n",
              "    <tr style=\"text-align: right;\">\n",
              "      <th></th>\n",
              "      <th>episode_number</th>\n",
              "      <th>season</th>\n",
              "      <th>episode_title</th>\n",
              "      <th>description</th>\n",
              "      <th>ratings</th>\n",
              "      <th>votes</th>\n",
              "      <th>viewership_mil</th>\n",
              "      <th>duration</th>\n",
              "      <th>release_date</th>\n",
              "      <th>guest_stars</th>\n",
              "      <th>director</th>\n",
              "      <th>writers</th>\n",
              "      <th>has_guests</th>\n",
              "      <th>scaled_ratings</th>\n",
              "    </tr>\n",
              "  </thead>\n",
              "  <tbody>\n",
              "    <tr>\n",
              "      <th>0</th>\n",
              "      <td>0</td>\n",
              "      <td>1</td>\n",
              "      <td>Pilot</td>\n",
              "      <td>The premiere episode introduces the boss and s...</td>\n",
              "      <td>7.5</td>\n",
              "      <td>4936</td>\n",
              "      <td>11.2</td>\n",
              "      <td>23</td>\n",
              "      <td>2005-03-24</td>\n",
              "      <td>NaN</td>\n",
              "      <td>Ken Kwapis</td>\n",
              "      <td>Ricky Gervais |Stephen Merchant and Greg Daniels</td>\n",
              "      <td>False</td>\n",
              "      <td>0.28125</td>\n",
              "    </tr>\n",
              "    <tr>\n",
              "      <th>1</th>\n",
              "      <td>1</td>\n",
              "      <td>1</td>\n",
              "      <td>Diversity Day</td>\n",
              "      <td>Michael's off color remark puts a sensitivity ...</td>\n",
              "      <td>8.3</td>\n",
              "      <td>4801</td>\n",
              "      <td>6.0</td>\n",
              "      <td>23</td>\n",
              "      <td>2005-03-29</td>\n",
              "      <td>NaN</td>\n",
              "      <td>Ken Kwapis</td>\n",
              "      <td>B. J. Novak</td>\n",
              "      <td>False</td>\n",
              "      <td>0.53125</td>\n",
              "    </tr>\n",
              "    <tr>\n",
              "      <th>2</th>\n",
              "      <td>2</td>\n",
              "      <td>1</td>\n",
              "      <td>Health Care</td>\n",
              "      <td>Michael leaves Dwight in charge of picking the...</td>\n",
              "      <td>7.8</td>\n",
              "      <td>4024</td>\n",
              "      <td>5.8</td>\n",
              "      <td>22</td>\n",
              "      <td>2005-04-05</td>\n",
              "      <td>NaN</td>\n",
              "      <td>Ken Whittingham</td>\n",
              "      <td>Paul Lieberstein</td>\n",
              "      <td>False</td>\n",
              "      <td>0.37500</td>\n",
              "    </tr>\n",
              "    <tr>\n",
              "      <th>3</th>\n",
              "      <td>3</td>\n",
              "      <td>1</td>\n",
              "      <td>The Alliance</td>\n",
              "      <td>Just for a laugh, Jim agrees to an alliance wi...</td>\n",
              "      <td>8.1</td>\n",
              "      <td>3915</td>\n",
              "      <td>5.4</td>\n",
              "      <td>23</td>\n",
              "      <td>2005-04-12</td>\n",
              "      <td>NaN</td>\n",
              "      <td>Bryan Gordon</td>\n",
              "      <td>Michael Schur</td>\n",
              "      <td>False</td>\n",
              "      <td>0.46875</td>\n",
              "    </tr>\n",
              "    <tr>\n",
              "      <th>4</th>\n",
              "      <td>4</td>\n",
              "      <td>1</td>\n",
              "      <td>Basketball</td>\n",
              "      <td>Michael and his staff challenge the warehouse ...</td>\n",
              "      <td>8.4</td>\n",
              "      <td>4294</td>\n",
              "      <td>5.0</td>\n",
              "      <td>23</td>\n",
              "      <td>2005-04-19</td>\n",
              "      <td>NaN</td>\n",
              "      <td>Greg Daniels</td>\n",
              "      <td>Greg Daniels</td>\n",
              "      <td>False</td>\n",
              "      <td>0.56250</td>\n",
              "    </tr>\n",
              "  </tbody>\n",
              "</table>\n",
              "</div>\n",
              "      <button class=\"colab-df-convert\" onclick=\"convertToInteractive('df-14a90c27-3ad1-43be-86f9-cb266c0051d1')\"\n",
              "              title=\"Convert this dataframe to an interactive table.\"\n",
              "              style=\"display:none;\">\n",
              "        \n",
              "  <svg xmlns=\"http://www.w3.org/2000/svg\" height=\"24px\"viewBox=\"0 0 24 24\"\n",
              "       width=\"24px\">\n",
              "    <path d=\"M0 0h24v24H0V0z\" fill=\"none\"/>\n",
              "    <path d=\"M18.56 5.44l.94 2.06.94-2.06 2.06-.94-2.06-.94-.94-2.06-.94 2.06-2.06.94zm-11 1L8.5 8.5l.94-2.06 2.06-.94-2.06-.94L8.5 2.5l-.94 2.06-2.06.94zm10 10l.94 2.06.94-2.06 2.06-.94-2.06-.94-.94-2.06-.94 2.06-2.06.94z\"/><path d=\"M17.41 7.96l-1.37-1.37c-.4-.4-.92-.59-1.43-.59-.52 0-1.04.2-1.43.59L10.3 9.45l-7.72 7.72c-.78.78-.78 2.05 0 2.83L4 21.41c.39.39.9.59 1.41.59.51 0 1.02-.2 1.41-.59l7.78-7.78 2.81-2.81c.8-.78.8-2.07 0-2.86zM5.41 20L4 18.59l7.72-7.72 1.47 1.35L5.41 20z\"/>\n",
              "  </svg>\n",
              "      </button>\n",
              "      \n",
              "  <style>\n",
              "    .colab-df-container {\n",
              "      display:flex;\n",
              "      flex-wrap:wrap;\n",
              "      gap: 12px;\n",
              "    }\n",
              "\n",
              "    .colab-df-convert {\n",
              "      background-color: #E8F0FE;\n",
              "      border: none;\n",
              "      border-radius: 50%;\n",
              "      cursor: pointer;\n",
              "      display: none;\n",
              "      fill: #1967D2;\n",
              "      height: 32px;\n",
              "      padding: 0 0 0 0;\n",
              "      width: 32px;\n",
              "    }\n",
              "\n",
              "    .colab-df-convert:hover {\n",
              "      background-color: #E2EBFA;\n",
              "      box-shadow: 0px 1px 2px rgba(60, 64, 67, 0.3), 0px 1px 3px 1px rgba(60, 64, 67, 0.15);\n",
              "      fill: #174EA6;\n",
              "    }\n",
              "\n",
              "    [theme=dark] .colab-df-convert {\n",
              "      background-color: #3B4455;\n",
              "      fill: #D2E3FC;\n",
              "    }\n",
              "\n",
              "    [theme=dark] .colab-df-convert:hover {\n",
              "      background-color: #434B5C;\n",
              "      box-shadow: 0px 1px 3px 1px rgba(0, 0, 0, 0.15);\n",
              "      filter: drop-shadow(0px 1px 2px rgba(0, 0, 0, 0.3));\n",
              "      fill: #FFFFFF;\n",
              "    }\n",
              "  </style>\n",
              "\n",
              "      <script>\n",
              "        const buttonEl =\n",
              "          document.querySelector('#df-14a90c27-3ad1-43be-86f9-cb266c0051d1 button.colab-df-convert');\n",
              "        buttonEl.style.display =\n",
              "          google.colab.kernel.accessAllowed ? 'block' : 'none';\n",
              "\n",
              "        async function convertToInteractive(key) {\n",
              "          const element = document.querySelector('#df-14a90c27-3ad1-43be-86f9-cb266c0051d1');\n",
              "          const dataTable =\n",
              "            await google.colab.kernel.invokeFunction('convertToInteractive',\n",
              "                                                     [key], {});\n",
              "          if (!dataTable) return;\n",
              "\n",
              "          const docLinkHtml = 'Like what you see? Visit the ' +\n",
              "            '<a target=\"_blank\" href=https://colab.research.google.com/notebooks/data_table.ipynb>data table notebook</a>'\n",
              "            + ' to learn more about interactive tables.';\n",
              "          element.innerHTML = '';\n",
              "          dataTable['output_type'] = 'display_data';\n",
              "          await google.colab.output.renderOutput(dataTable, element);\n",
              "          const docLink = document.createElement('div');\n",
              "          docLink.innerHTML = docLinkHtml;\n",
              "          element.appendChild(docLink);\n",
              "        }\n",
              "      </script>\n",
              "    </div>\n",
              "  </div>\n",
              "  "
            ]
          },
          "metadata": {},
          "execution_count": 4
        }
      ]
    },
    {
      "metadata": {
        "dc": {
          "key": "4"
        },
        "trusted": true,
        "id": "E01i4jTq7pkv"
      },
      "cell_type": "code",
      "source": [
        "def get_color(rating):\n",
        "    if rating < 0.25:\n",
        "        return 'red'\n",
        "    elif rating < 0.50:\n",
        "        return 'orange'\n",
        "    elif rating < 0.75:\n",
        "        return 'lightgreen'\n",
        "    else:\n",
        "        return 'darkgreen'"
      ],
      "execution_count": null,
      "outputs": []
    },
    {
      "metadata": {
        "dc": {
          "key": "4"
        },
        "trusted": true,
        "collapsed": true,
        "id": "IjBPaIsV7pkw"
      },
      "cell_type": "code",
      "source": [
        "def get_size(has_guests):\n",
        "    if not has_guests:\n",
        "        return 25\n",
        "    else:\n",
        "        return 250"
      ],
      "execution_count": null,
      "outputs": []
    },
    {
      "metadata": {
        "dc": {
          "key": "4"
        },
        "trusted": true,
        "id": "N_cVqk6n7pkx"
      },
      "cell_type": "code",
      "source": [
        "data['color'] = data['scaled_ratings'].apply(get_color)\n",
        "data['size'] = data['has_guests'].apply(get_size)"
      ],
      "execution_count": null,
      "outputs": []
    },
    {
      "metadata": {
        "dc": {
          "key": "4"
        },
        "trusted": true,
        "colab": {
          "base_uri": "https://localhost:8080/",
          "height": 478
        },
        "id": "f6_AkJLW7pky",
        "outputId": "f81f03bb-d868-4d11-d393-2b6b8152c50f"
      },
      "cell_type": "code",
      "source": [
        "fig = plt.figure()\n",
        "\n",
        "plt.scatter(\n",
        "    data['episode_number'], \n",
        "    data['viewership_mil'],\n",
        "    c=data['color'],\n",
        "    s=data['size']\n",
        ")\n",
        "\n",
        "plt.title(\"Popularity, Quality, and Guest Appearances on the Office\", fontsize=28)\n",
        "plt.xlabel(\"Episode Number\", fontsize=18)\n",
        "plt.ylabel(\"Viewership (Millions)\", fontsize=18)\n",
        "plt.show()"
      ],
      "execution_count": null,
      "outputs": [
        {
          "output_type": "display_data",
          "data": {
            "text/plain": [
              "<Figure size 792x504 with 1 Axes>"
            ],
            "image/png": "[encoded data removed]"
          },
          "metadata": {
            "needs_background": "light"
          }
        }
      ]
    },
    {
      "metadata": {
        "dc": {
          "key": "4"
        },
        "trusted": true,
        "colab": {
          "base_uri": "https://localhost:8080/",
          "height": 36
        },
        "id": "mWhZcZ6a7pkz",
        "outputId": "fbabfad4-4b7d-4e53-e442-1574956a1b20"
      },
      "cell_type": "code",
      "source": [
        "data[data['has_guests']].sort_values('viewership_mil', ascending=False).head(1)['guest_stars'].values[0]"
      ],
      "execution_count": null,
      "outputs": [
        {
          "output_type": "execute_result",
          "data": {
            "text/plain": [
              "'Cloris Leachman, Jack Black, Jessica Alba'"
            ],
            "application/vnd.google.colaboratory.intrinsic+json": {
              "type": "string"
            }
          },
          "metadata": {},
          "execution_count": 9
        }
      ]
    },
    {
      "metadata": {
        "dc": {
          "key": "4"
        },
        "trusted": true,
        "collapsed": true,
        "id": "vOZUT73D7pk0"
      },
      "cell_type": "code",
      "source": [
        "top_star = \"Jack Black\""
      ],
      "execution_count": null,
      "outputs": []
    }
  ],
  "metadata": {
    "kernelspec": {
      "name": "python3",
      "display_name": "Python 3",
      "language": "python"
    },
    "language_info": {
      "name": "python",
      "version": "3.6.7",
      "mimetype": "text/x-python",
      "codemirror_mode": {
        "name": "ipython",
        "version": 3
      },
      "pygments_lexer": "ipython3",
      "nbconvert_exporter": "python",
      "file_extension": ".py"
    },
    "colab": {
      "provenance": [],
      "collapsed_sections": [],
      "include_colab_link": true
    }
  },
  "nbformat": 4,
  "nbformat_minor": 0
}